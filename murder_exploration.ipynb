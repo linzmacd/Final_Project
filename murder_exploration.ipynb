{
 "cells": [
  {
   "cell_type": "code",
   "execution_count": 1,
   "metadata": {
    "id": "0a68d22f"
   },
   "outputs": [],
   "source": [
    "# Import dependencies\n",
    "import pandas as pd\n",
    "from sklearn.preprocessing import LabelEncoder"
   ]
  },
  {
   "cell_type": "code",
   "execution_count": 2,
   "metadata": {
    "id": "4240bbe5",
    "outputId": "735f119c-c382-4022-b37d-7174cb992fac"
   },
   "outputs": [
    {
     "data": {
      "text/html": [
       "<div>\n",
       "<style scoped>\n",
       "    .dataframe tbody tr th:only-of-type {\n",
       "        vertical-align: middle;\n",
       "    }\n",
       "\n",
       "    .dataframe tbody tr th {\n",
       "        vertical-align: top;\n",
       "    }\n",
       "\n",
       "    .dataframe thead th {\n",
       "        text-align: right;\n",
       "    }\n",
       "</style>\n",
       "<table border=\"1\" class=\"dataframe\">\n",
       "  <thead>\n",
       "    <tr style=\"text-align: right;\">\n",
       "      <th></th>\n",
       "      <th>RecordId</th>\n",
       "      <th>AgencyName</th>\n",
       "      <th>AgencyType</th>\n",
       "      <th>County</th>\n",
       "      <th>State</th>\n",
       "      <th>Year</th>\n",
       "      <th>Month</th>\n",
       "      <th>Incident</th>\n",
       "      <th>CrimeType</th>\n",
       "      <th>CrimeSolved</th>\n",
       "      <th>...</th>\n",
       "      <th>VictimRace</th>\n",
       "      <th>VictimEthnicity</th>\n",
       "      <th>PerpetratorSex</th>\n",
       "      <th>PerpetratorAge</th>\n",
       "      <th>PerpetratorRace</th>\n",
       "      <th>PerpetratorEthnicity</th>\n",
       "      <th>Relationship</th>\n",
       "      <th>Weapon</th>\n",
       "      <th>VictimCount</th>\n",
       "      <th>PerpetratorCount</th>\n",
       "    </tr>\n",
       "  </thead>\n",
       "  <tbody>\n",
       "    <tr>\n",
       "      <th>0</th>\n",
       "      <td>1068</td>\n",
       "      <td>Alameda</td>\n",
       "      <td>Sheriff</td>\n",
       "      <td>Alameda</td>\n",
       "      <td>California</td>\n",
       "      <td>1980</td>\n",
       "      <td>April</td>\n",
       "      <td>1</td>\n",
       "      <td>Murder or Manslaughter</td>\n",
       "      <td>No</td>\n",
       "      <td>...</td>\n",
       "      <td>White</td>\n",
       "      <td>Unknown</td>\n",
       "      <td>Unknown</td>\n",
       "      <td>0</td>\n",
       "      <td>Unknown</td>\n",
       "      <td>Unknown</td>\n",
       "      <td>Unknown</td>\n",
       "      <td>Knife</td>\n",
       "      <td>0</td>\n",
       "      <td>1</td>\n",
       "    </tr>\n",
       "    <tr>\n",
       "      <th>1</th>\n",
       "      <td>1069</td>\n",
       "      <td>Alameda</td>\n",
       "      <td>Sheriff</td>\n",
       "      <td>Alameda</td>\n",
       "      <td>California</td>\n",
       "      <td>1980</td>\n",
       "      <td>August</td>\n",
       "      <td>1</td>\n",
       "      <td>Murder or Manslaughter</td>\n",
       "      <td>Yes</td>\n",
       "      <td>...</td>\n",
       "      <td>White</td>\n",
       "      <td>Not Hispanic</td>\n",
       "      <td>Male</td>\n",
       "      <td>39</td>\n",
       "      <td>White</td>\n",
       "      <td>Not Hispanic</td>\n",
       "      <td>Son</td>\n",
       "      <td>Handgun</td>\n",
       "      <td>0</td>\n",
       "      <td>0</td>\n",
       "    </tr>\n",
       "    <tr>\n",
       "      <th>2</th>\n",
       "      <td>1070</td>\n",
       "      <td>Alameda</td>\n",
       "      <td>Sheriff</td>\n",
       "      <td>Alameda</td>\n",
       "      <td>California</td>\n",
       "      <td>1980</td>\n",
       "      <td>October</td>\n",
       "      <td>1</td>\n",
       "      <td>Murder or Manslaughter</td>\n",
       "      <td>No</td>\n",
       "      <td>...</td>\n",
       "      <td>Black</td>\n",
       "      <td>Not Hispanic</td>\n",
       "      <td>Unknown</td>\n",
       "      <td>0</td>\n",
       "      <td>Unknown</td>\n",
       "      <td>Unknown</td>\n",
       "      <td>Unknown</td>\n",
       "      <td>Fire</td>\n",
       "      <td>0</td>\n",
       "      <td>1</td>\n",
       "    </tr>\n",
       "    <tr>\n",
       "      <th>3</th>\n",
       "      <td>1071</td>\n",
       "      <td>Alameda</td>\n",
       "      <td>Sheriff</td>\n",
       "      <td>Alameda</td>\n",
       "      <td>California</td>\n",
       "      <td>1980</td>\n",
       "      <td>November</td>\n",
       "      <td>1</td>\n",
       "      <td>Murder or Manslaughter</td>\n",
       "      <td>No</td>\n",
       "      <td>...</td>\n",
       "      <td>White</td>\n",
       "      <td>Hispanic</td>\n",
       "      <td>Unknown</td>\n",
       "      <td>0</td>\n",
       "      <td>Unknown</td>\n",
       "      <td>Unknown</td>\n",
       "      <td>Unknown</td>\n",
       "      <td>Knife</td>\n",
       "      <td>0</td>\n",
       "      <td>0</td>\n",
       "    </tr>\n",
       "    <tr>\n",
       "      <th>4</th>\n",
       "      <td>1072</td>\n",
       "      <td>Alameda</td>\n",
       "      <td>Sheriff</td>\n",
       "      <td>Alameda</td>\n",
       "      <td>California</td>\n",
       "      <td>1980</td>\n",
       "      <td>November</td>\n",
       "      <td>2</td>\n",
       "      <td>Murder or Manslaughter</td>\n",
       "      <td>No</td>\n",
       "      <td>...</td>\n",
       "      <td>White</td>\n",
       "      <td>Not Hispanic</td>\n",
       "      <td>Unknown</td>\n",
       "      <td>0</td>\n",
       "      <td>Unknown</td>\n",
       "      <td>Unknown</td>\n",
       "      <td>Unknown</td>\n",
       "      <td>Knife</td>\n",
       "      <td>0</td>\n",
       "      <td>0</td>\n",
       "    </tr>\n",
       "  </tbody>\n",
       "</table>\n",
       "<p>5 rows × 22 columns</p>\n",
       "</div>"
      ],
      "text/plain": [
       "   RecordId AgencyName AgencyType   County       State  Year     Month  \\\n",
       "0      1068    Alameda    Sheriff  Alameda  California  1980     April   \n",
       "1      1069    Alameda    Sheriff  Alameda  California  1980    August   \n",
       "2      1070    Alameda    Sheriff  Alameda  California  1980   October   \n",
       "3      1071    Alameda    Sheriff  Alameda  California  1980  November   \n",
       "4      1072    Alameda    Sheriff  Alameda  California  1980  November   \n",
       "\n",
       "   Incident               CrimeType CrimeSolved  ... VictimRace  \\\n",
       "0         1  Murder or Manslaughter          No  ...      White   \n",
       "1         1  Murder or Manslaughter         Yes  ...      White   \n",
       "2         1  Murder or Manslaughter          No  ...      Black   \n",
       "3         1  Murder or Manslaughter          No  ...      White   \n",
       "4         2  Murder or Manslaughter          No  ...      White   \n",
       "\n",
       "   VictimEthnicity PerpetratorSex PerpetratorAge PerpetratorRace  \\\n",
       "0          Unknown        Unknown              0         Unknown   \n",
       "1     Not Hispanic           Male             39           White   \n",
       "2     Not Hispanic        Unknown              0         Unknown   \n",
       "3         Hispanic        Unknown              0         Unknown   \n",
       "4     Not Hispanic        Unknown              0         Unknown   \n",
       "\n",
       "   PerpetratorEthnicity Relationship   Weapon VictimCount PerpetratorCount  \n",
       "0               Unknown      Unknown    Knife           0                1  \n",
       "1          Not Hispanic          Son  Handgun           0                0  \n",
       "2               Unknown      Unknown     Fire           0                1  \n",
       "3               Unknown      Unknown    Knife           0                0  \n",
       "4               Unknown      Unknown    Knife           0                0  \n",
       "\n",
       "[5 rows x 22 columns]"
      ]
     },
     "execution_count": 2,
     "metadata": {},
     "output_type": "execute_result"
    }
   ],
   "source": [
    "# Import homicide data\n",
    "murders_df = pd.read_csv(\"Resources/murders_clean.csv\")\n",
    "murders_df.head()"
   ]
  },
  {
   "cell_type": "code",
   "execution_count": 3,
   "metadata": {},
   "outputs": [
    {
     "data": {
      "text/html": [
       "<div>\n",
       "<style scoped>\n",
       "    .dataframe tbody tr th:only-of-type {\n",
       "        vertical-align: middle;\n",
       "    }\n",
       "\n",
       "    .dataframe tbody tr th {\n",
       "        vertical-align: top;\n",
       "    }\n",
       "\n",
       "    .dataframe thead th {\n",
       "        text-align: right;\n",
       "    }\n",
       "</style>\n",
       "<table border=\"1\" class=\"dataframe\">\n",
       "  <thead>\n",
       "    <tr style=\"text-align: right;\">\n",
       "      <th></th>\n",
       "      <th>RecordId</th>\n",
       "      <th>AgencyName</th>\n",
       "      <th>AgencyType</th>\n",
       "      <th>County</th>\n",
       "      <th>State</th>\n",
       "      <th>Year</th>\n",
       "      <th>Month</th>\n",
       "      <th>Incident</th>\n",
       "      <th>CrimeType</th>\n",
       "      <th>CrimeSolved</th>\n",
       "      <th>...</th>\n",
       "      <th>VictimRace</th>\n",
       "      <th>VictimEthnicity</th>\n",
       "      <th>PerpetratorSex</th>\n",
       "      <th>PerpetratorAge</th>\n",
       "      <th>PerpetratorRace</th>\n",
       "      <th>PerpetratorEthnicity</th>\n",
       "      <th>Relationship</th>\n",
       "      <th>Weapon</th>\n",
       "      <th>VictimCount</th>\n",
       "      <th>PerpetratorCount</th>\n",
       "    </tr>\n",
       "  </thead>\n",
       "  <tbody>\n",
       "    <tr>\n",
       "      <th>0</th>\n",
       "      <td>1068</td>\n",
       "      <td>Alameda</td>\n",
       "      <td>Sheriff</td>\n",
       "      <td>Alameda</td>\n",
       "      <td>California</td>\n",
       "      <td>1980</td>\n",
       "      <td>April</td>\n",
       "      <td>1</td>\n",
       "      <td>Murder or Manslaughter</td>\n",
       "      <td>0</td>\n",
       "      <td>...</td>\n",
       "      <td>White</td>\n",
       "      <td>Unknown</td>\n",
       "      <td>Unknown</td>\n",
       "      <td>0</td>\n",
       "      <td>Unknown</td>\n",
       "      <td>Unknown</td>\n",
       "      <td>Unknown</td>\n",
       "      <td>Knife</td>\n",
       "      <td>0</td>\n",
       "      <td>1</td>\n",
       "    </tr>\n",
       "    <tr>\n",
       "      <th>1</th>\n",
       "      <td>1069</td>\n",
       "      <td>Alameda</td>\n",
       "      <td>Sheriff</td>\n",
       "      <td>Alameda</td>\n",
       "      <td>California</td>\n",
       "      <td>1980</td>\n",
       "      <td>August</td>\n",
       "      <td>1</td>\n",
       "      <td>Murder or Manslaughter</td>\n",
       "      <td>1</td>\n",
       "      <td>...</td>\n",
       "      <td>White</td>\n",
       "      <td>Not Hispanic</td>\n",
       "      <td>Male</td>\n",
       "      <td>39</td>\n",
       "      <td>White</td>\n",
       "      <td>Not Hispanic</td>\n",
       "      <td>Son</td>\n",
       "      <td>Handgun</td>\n",
       "      <td>0</td>\n",
       "      <td>0</td>\n",
       "    </tr>\n",
       "    <tr>\n",
       "      <th>2</th>\n",
       "      <td>1070</td>\n",
       "      <td>Alameda</td>\n",
       "      <td>Sheriff</td>\n",
       "      <td>Alameda</td>\n",
       "      <td>California</td>\n",
       "      <td>1980</td>\n",
       "      <td>October</td>\n",
       "      <td>1</td>\n",
       "      <td>Murder or Manslaughter</td>\n",
       "      <td>0</td>\n",
       "      <td>...</td>\n",
       "      <td>Black</td>\n",
       "      <td>Not Hispanic</td>\n",
       "      <td>Unknown</td>\n",
       "      <td>0</td>\n",
       "      <td>Unknown</td>\n",
       "      <td>Unknown</td>\n",
       "      <td>Unknown</td>\n",
       "      <td>Fire</td>\n",
       "      <td>0</td>\n",
       "      <td>1</td>\n",
       "    </tr>\n",
       "    <tr>\n",
       "      <th>3</th>\n",
       "      <td>1071</td>\n",
       "      <td>Alameda</td>\n",
       "      <td>Sheriff</td>\n",
       "      <td>Alameda</td>\n",
       "      <td>California</td>\n",
       "      <td>1980</td>\n",
       "      <td>November</td>\n",
       "      <td>1</td>\n",
       "      <td>Murder or Manslaughter</td>\n",
       "      <td>0</td>\n",
       "      <td>...</td>\n",
       "      <td>White</td>\n",
       "      <td>Hispanic</td>\n",
       "      <td>Unknown</td>\n",
       "      <td>0</td>\n",
       "      <td>Unknown</td>\n",
       "      <td>Unknown</td>\n",
       "      <td>Unknown</td>\n",
       "      <td>Knife</td>\n",
       "      <td>0</td>\n",
       "      <td>0</td>\n",
       "    </tr>\n",
       "    <tr>\n",
       "      <th>4</th>\n",
       "      <td>1072</td>\n",
       "      <td>Alameda</td>\n",
       "      <td>Sheriff</td>\n",
       "      <td>Alameda</td>\n",
       "      <td>California</td>\n",
       "      <td>1980</td>\n",
       "      <td>November</td>\n",
       "      <td>2</td>\n",
       "      <td>Murder or Manslaughter</td>\n",
       "      <td>0</td>\n",
       "      <td>...</td>\n",
       "      <td>White</td>\n",
       "      <td>Not Hispanic</td>\n",
       "      <td>Unknown</td>\n",
       "      <td>0</td>\n",
       "      <td>Unknown</td>\n",
       "      <td>Unknown</td>\n",
       "      <td>Unknown</td>\n",
       "      <td>Knife</td>\n",
       "      <td>0</td>\n",
       "      <td>0</td>\n",
       "    </tr>\n",
       "  </tbody>\n",
       "</table>\n",
       "<p>5 rows × 22 columns</p>\n",
       "</div>"
      ],
      "text/plain": [
       "   RecordId AgencyName AgencyType   County       State  Year     Month  \\\n",
       "0      1068    Alameda    Sheriff  Alameda  California  1980     April   \n",
       "1      1069    Alameda    Sheriff  Alameda  California  1980    August   \n",
       "2      1070    Alameda    Sheriff  Alameda  California  1980   October   \n",
       "3      1071    Alameda    Sheriff  Alameda  California  1980  November   \n",
       "4      1072    Alameda    Sheriff  Alameda  California  1980  November   \n",
       "\n",
       "   Incident               CrimeType  CrimeSolved  ... VictimRace  \\\n",
       "0         1  Murder or Manslaughter            0  ...      White   \n",
       "1         1  Murder or Manslaughter            1  ...      White   \n",
       "2         1  Murder or Manslaughter            0  ...      Black   \n",
       "3         1  Murder or Manslaughter            0  ...      White   \n",
       "4         2  Murder or Manslaughter            0  ...      White   \n",
       "\n",
       "   VictimEthnicity PerpetratorSex PerpetratorAge PerpetratorRace  \\\n",
       "0          Unknown        Unknown              0         Unknown   \n",
       "1     Not Hispanic           Male             39           White   \n",
       "2     Not Hispanic        Unknown              0         Unknown   \n",
       "3         Hispanic        Unknown              0         Unknown   \n",
       "4     Not Hispanic        Unknown              0         Unknown   \n",
       "\n",
       "   PerpetratorEthnicity Relationship   Weapon VictimCount PerpetratorCount  \n",
       "0               Unknown      Unknown    Knife           0                1  \n",
       "1          Not Hispanic          Son  Handgun           0                0  \n",
       "2               Unknown      Unknown     Fire           0                1  \n",
       "3               Unknown      Unknown    Knife           0                0  \n",
       "4               Unknown      Unknown    Knife           0                0  \n",
       "\n",
       "[5 rows x 22 columns]"
      ]
     },
     "execution_count": 3,
     "metadata": {},
     "output_type": "execute_result"
    }
   ],
   "source": [
    "le = LabelEncoder()\n",
    "murders_df['CrimeSolved'] = le.fit_transform(murders_df['CrimeSolved'])\n",
    "murders_df.head()"
   ]
  },
  {
   "cell_type": "code",
   "execution_count": 4,
   "metadata": {
    "id": "8e36c952",
    "outputId": "d0489090-f100-469f-f6a6-db38221021c8"
   },
   "outputs": [
    {
     "data": {
      "text/plain": [
       "(99783, 22)"
      ]
     },
     "execution_count": 4,
     "metadata": {},
     "output_type": "execute_result"
    }
   ],
   "source": [
    "# Examine shape of dataset\n",
    "murders_df.shape"
   ]
  },
  {
   "cell_type": "code",
   "execution_count": 5,
   "metadata": {
    "id": "58bab7f0",
    "outputId": "2c8c2c6a-0e78-41cd-d8ac-8239af87a5e8"
   },
   "outputs": [
    {
     "data": {
      "text/plain": [
       "RecordId                99783\n",
       "AgencyName                613\n",
       "AgencyType                  4\n",
       "County                     58\n",
       "State                       1\n",
       "Year                       35\n",
       "Month                      12\n",
       "Incident                  131\n",
       "CrimeType                   2\n",
       "CrimeSolved                 2\n",
       "VictimSex                   3\n",
       "VictimAge                 101\n",
       "VictimRace                  5\n",
       "VictimEthnicity             3\n",
       "PerpetratorSex              3\n",
       "PerpetratorAge             96\n",
       "PerpetratorRace             5\n",
       "PerpetratorEthnicity        3\n",
       "Relationship               28\n",
       "Weapon                     15\n",
       "VictimCount                11\n",
       "PerpetratorCount           11\n",
       "dtype: int64"
      ]
     },
     "execution_count": 5,
     "metadata": {},
     "output_type": "execute_result"
    }
   ],
   "source": [
    "# Determine the number of unique values in each column.\n",
    "murders_df.nunique()"
   ]
  },
  {
   "cell_type": "code",
   "execution_count": 6,
   "metadata": {
    "id": "dc83b948",
    "outputId": "bbe1abb7-e226-4295-9613-e78f3f287e8a"
   },
   "outputs": [
    {
     "data": {
      "text/plain": [
       "Unknown                 45050\n",
       "Stranger                23827\n",
       "Acquaintance             9597\n",
       "Friend                   5964\n",
       "Wife                     2961\n",
       "Girlfriend               2336\n",
       "Son                      1299\n",
       "Daughter                 1087\n",
       "Family                   1067\n",
       "Neighbor                  989\n",
       "Husband                   804\n",
       "Boyfriend                 710\n",
       "Mother                    622\n",
       "Brother                   603\n",
       "Father                    521\n",
       "In-Law                    487\n",
       "Boyfriend/Girlfriend      407\n",
       "Common-Law Wife           310\n",
       "Ex-Wife                   194\n",
       "Stepfather                169\n",
       "Common-Law Husband        166\n",
       "Sister                    146\n",
       "Employer                  125\n",
       "Stepson                   119\n",
       "Stepdaughter               90\n",
       "Employee                   58\n",
       "Ex-Husband                 49\n",
       "Stepmother                 26\n",
       "Name: Relationship, dtype: int64"
      ]
     },
     "execution_count": 6,
     "metadata": {},
     "output_type": "execute_result"
    }
   ],
   "source": [
    "# Inspect values in the Relationship column.\n",
    "murders_df[\"Relationship\"].value_counts()"
   ]
  },
  {
   "cell_type": "code",
   "execution_count": 7,
   "metadata": {},
   "outputs": [
    {
     "data": {
      "text/plain": [
       "<AxesSubplot:xlabel='Relationship'>"
      ]
     },
     "execution_count": 7,
     "metadata": {},
     "output_type": "execute_result"
    },
    {
     "data": {
      "image/png": "[encoded data removed]",
      "text/plain": [
       "<Figure size 432x288 with 1 Axes>"
      ]
     },
     "metadata": {
      "needs_background": "light"
     },
     "output_type": "display_data"
    }
   ],
   "source": [
    "# Compare solve rates for Relationship values\n",
    "solved_relationship = murders_df.groupby([\"Relationship\"]).mean()[\"CrimeSolved\"]\n",
    "solved_relationship_df = pd.DataFrame(solved_relationship)\n",
    "solved_relationship_df.plot(kind=\"bar\")"
   ]
  },
  {
   "cell_type": "code",
   "execution_count": 8,
   "metadata": {
    "id": "23e21427",
    "outputId": "fc2532c4-e36f-4bfb-a312-a40d654803d2"
   },
   "outputs": [
    {
     "data": {
      "text/plain": [
       "Handgun          55429\n",
       "Knife            14989\n",
       "Blunt Object     10195\n",
       "Shotgun           4371\n",
       "Firearm           4327\n",
       "Rifle             4103\n",
       "Unknown           2533\n",
       "Strangulation     1865\n",
       "Suffocation        760\n",
       "Fire               624\n",
       "Drowning           240\n",
       "Drugs              180\n",
       "Poison              77\n",
       "Explosives          50\n",
       "Gun                 40\n",
       "Name: Weapon, dtype: int64"
      ]
     },
     "execution_count": 8,
     "metadata": {},
     "output_type": "execute_result"
    }
   ],
   "source": [
    "# Inspect values in the Weapon column.\n",
    "murders_df[\"Weapon\"].value_counts()"
   ]
  },
  {
   "cell_type": "code",
   "execution_count": 9,
   "metadata": {},
   "outputs": [
    {
     "data": {
      "text/plain": [
       "<AxesSubplot:xlabel='Weapon'>"
      ]
     },
     "execution_count": 9,
     "metadata": {},
     "output_type": "execute_result"
    },
    {
     "data": {
      "image/png": "[encoded data removed]",
      "text/plain": [
       "<Figure size 432x288 with 1 Axes>"
      ]
     },
     "metadata": {
      "needs_background": "light"
     },
     "output_type": "display_data"
    }
   ],
   "source": [
    "# Compare solve rates for Weapon values\n",
    "solved_weapon = murders_df.groupby([\"Weapon\"]).mean()[\"CrimeSolved\"]\n",
    "solved_weapon_df = pd.DataFrame(solved_weapon)\n",
    "solved_weapon_df.plot(kind=\"bar\")"
   ]
  },
  {
   "cell_type": "code",
   "execution_count": 10,
   "metadata": {
    "id": "256afc44",
    "outputId": "a76c5661-da21-4397-f91c-d91ffa0fe894"
   },
   "outputs": [
    {
     "data": {
      "text/plain": [
       "Male       81007\n",
       "Female     18743\n",
       "Unknown       33\n",
       "Name: VictimSex, dtype: int64"
      ]
     },
     "execution_count": 10,
     "metadata": {},
     "output_type": "execute_result"
    }
   ],
   "source": [
    "# Inspect values in the Victim Sex column.\n",
    "murders_df[\"VictimSex\"].value_counts()"
   ]
  },
  {
   "cell_type": "code",
   "execution_count": 11,
   "metadata": {},
   "outputs": [
    {
     "data": {
      "text/plain": [
       "<AxesSubplot:xlabel='VictimSex'>"
      ]
     },
     "execution_count": 11,
     "metadata": {},
     "output_type": "execute_result"
    },
    {
     "data": {
      "image/png": "[encoded data removed]",
      "text/plain": [
       "<Figure size 432x288 with 1 Axes>"
      ]
     },
     "metadata": {
      "needs_background": "light"
     },
     "output_type": "display_data"
    }
   ],
   "source": [
    "# Compare solve rates for Victim Sex values\n",
    "solved_gender = murders_df.groupby([\"VictimSex\"]).mean()[\"CrimeSolved\"]\n",
    "solved_gender_df = pd.DataFrame(solved_gender)\n",
    "solved_gender_df.plot(kind=\"bar\")"
   ]
  },
  {
   "cell_type": "code",
   "execution_count": 12,
   "metadata": {
    "id": "cb5c7399",
    "outputId": "d137bfae-ff9a-458a-c8bf-9e891daa6543"
   },
   "outputs": [
    {
     "data": {
      "text/plain": [
       "White                            64621\n",
       "Black                            28805\n",
       "Asian/Pacific Islander            3849\n",
       "Unknown                           1995\n",
       "Native American/Alaska Native      513\n",
       "Name: VictimRace, dtype: int64"
      ]
     },
     "execution_count": 12,
     "metadata": {},
     "output_type": "execute_result"
    }
   ],
   "source": [
    "# Inspect values in the Victim Race column.\n",
    "murders_df[\"VictimRace\"].value_counts()"
   ]
  },
  {
   "cell_type": "code",
   "execution_count": 13,
   "metadata": {},
   "outputs": [
    {
     "data": {
      "text/plain": [
       "<AxesSubplot:xlabel='VictimRace'>"
      ]
     },
     "execution_count": 13,
     "metadata": {},
     "output_type": "execute_result"
    },
    {
     "data": {
      "image/png": "[encoded data removed]",
      "text/plain": [
       "<Figure size 432x288 with 1 Axes>"
      ]
     },
     "metadata": {
      "needs_background": "light"
     },
     "output_type": "display_data"
    }
   ],
   "source": [
    "# Compare solve rates for Victim Race values\n",
    "solved_race = murders_df.groupby([\"VictimRace\"]).mean()[\"CrimeSolved\"]\n",
    "solved_race_df = pd.DataFrame(solved_race)\n",
    "solved_race_df.plot(kind=\"bar\")"
   ]
  },
  {
   "cell_type": "code",
   "execution_count": 14,
   "metadata": {
    "id": "6f3882ae",
    "outputId": "cc94a77b-f243-43da-a11c-35885a668900"
   },
   "outputs": [
    {
     "data": {
      "text/plain": [
       "Not Hispanic    54179\n",
       "Hispanic        37002\n",
       "Unknown          8602\n",
       "Name: VictimEthnicity, dtype: int64"
      ]
     },
     "execution_count": 14,
     "metadata": {},
     "output_type": "execute_result"
    }
   ],
   "source": [
    "# Inspect values in the Victim Ethnicity column.\n",
    "murders_df[\"VictimEthnicity\"].value_counts()"
   ]
  },
  {
   "cell_type": "code",
   "execution_count": 15,
   "metadata": {},
   "outputs": [
    {
     "data": {
      "text/plain": [
       "<AxesSubplot:xlabel='VictimEthnicity'>"
      ]
     },
     "execution_count": 15,
     "metadata": {},
     "output_type": "execute_result"
    },
    {
     "data": {
      "image/png": "[encoded data removed]",
      "text/plain": [
       "<Figure size 432x288 with 1 Axes>"
      ]
     },
     "metadata": {
      "needs_background": "light"
     },
     "output_type": "display_data"
    }
   ],
   "source": [
    "# Compare solve rates for Victim Ethnicity values\n",
    "solved_ethnicity = murders_df.groupby([\"VictimEthnicity\"]).mean()[\"CrimeSolved\"]\n",
    "solved_ethnicity_df = pd.DataFrame(solved_ethnicity)\n",
    "solved_ethnicity_df.plot(kind=\"bar\")"
   ]
  },
  {
   "cell_type": "code",
   "execution_count": 16,
   "metadata": {},
   "outputs": [
    {
     "data": {
      "text/plain": [
       "<AxesSubplot:xlabel='County'>"
      ]
     },
     "execution_count": 16,
     "metadata": {},
     "output_type": "execute_result"
    },
    {
     "data": {
      "image/png": "[encoded data removed]",
      "text/plain": [
       "<Figure size 1080x216 with 1 Axes>"
      ]
     },
     "metadata": {
      "needs_background": "light"
     },
     "output_type": "display_data"
    }
   ],
   "source": [
    "# Compare solve rates for County values\n",
    "solved_county = murders_df.groupby([\"County\"]).mean()[\"CrimeSolved\"]\n",
    "solved_county_df = pd.DataFrame(solved_county)\n",
    "solved_county_df.rename(columns={\"CrimeSolved\":\"CrimeSolveRate\"}, inplace=True)\n",
    "solved_county_df.plot(kind=\"bar\", figsize=[15,3], fontsize=12)"
   ]
  },
  {
   "cell_type": "code",
   "execution_count": 17,
   "metadata": {
    "id": "c647ae14",
    "outputId": "d41ff40f-df3d-4db6-b38f-8d3ec02ea578"
   },
   "outputs": [
    {
     "data": {
      "text/html": [
       "<div>\n",
       "<style scoped>\n",
       "    .dataframe tbody tr th:only-of-type {\n",
       "        vertical-align: middle;\n",
       "    }\n",
       "\n",
       "    .dataframe tbody tr th {\n",
       "        vertical-align: top;\n",
       "    }\n",
       "\n",
       "    .dataframe thead th {\n",
       "        text-align: right;\n",
       "    }\n",
       "</style>\n",
       "<table border=\"1\" class=\"dataframe\">\n",
       "  <thead>\n",
       "    <tr style=\"text-align: right;\">\n",
       "      <th></th>\n",
       "      <th>CensusId</th>\n",
       "      <th>State</th>\n",
       "      <th>County</th>\n",
       "      <th>TotalPop</th>\n",
       "      <th>Men</th>\n",
       "      <th>Women</th>\n",
       "      <th>Hispanic</th>\n",
       "      <th>White</th>\n",
       "      <th>Black</th>\n",
       "      <th>Native</th>\n",
       "      <th>...</th>\n",
       "      <th>Pacific</th>\n",
       "      <th>Citizen</th>\n",
       "      <th>Income</th>\n",
       "      <th>IncomeErr</th>\n",
       "      <th>IncomePerCap</th>\n",
       "      <th>IncomePerCapErr</th>\n",
       "      <th>Poverty</th>\n",
       "      <th>ChildPoverty</th>\n",
       "      <th>Employed</th>\n",
       "      <th>Unemployment</th>\n",
       "    </tr>\n",
       "  </thead>\n",
       "  <tbody>\n",
       "    <tr>\n",
       "      <th>0</th>\n",
       "      <td>6001</td>\n",
       "      <td>California</td>\n",
       "      <td>Alameda</td>\n",
       "      <td>1584983</td>\n",
       "      <td>776699</td>\n",
       "      <td>808284</td>\n",
       "      <td>22.6</td>\n",
       "      <td>33.0</td>\n",
       "      <td>11.3</td>\n",
       "      <td>0.3</td>\n",
       "      <td>...</td>\n",
       "      <td>0.8</td>\n",
       "      <td>1025865</td>\n",
       "      <td>75619.0</td>\n",
       "      <td>613.0</td>\n",
       "      <td>37285</td>\n",
       "      <td>279</td>\n",
       "      <td>12.5</td>\n",
       "      <td>15.2</td>\n",
       "      <td>778132</td>\n",
       "      <td>8.3</td>\n",
       "    </tr>\n",
       "    <tr>\n",
       "      <th>1</th>\n",
       "      <td>6003</td>\n",
       "      <td>California</td>\n",
       "      <td>Alpine</td>\n",
       "      <td>1131</td>\n",
       "      <td>654</td>\n",
       "      <td>477</td>\n",
       "      <td>9.5</td>\n",
       "      <td>64.1</td>\n",
       "      <td>1.0</td>\n",
       "      <td>19.4</td>\n",
       "      <td>...</td>\n",
       "      <td>1.4</td>\n",
       "      <td>865</td>\n",
       "      <td>52917.0</td>\n",
       "      <td>13603.0</td>\n",
       "      <td>21415</td>\n",
       "      <td>3057</td>\n",
       "      <td>17.5</td>\n",
       "      <td>8.5</td>\n",
       "      <td>408</td>\n",
       "      <td>10.7</td>\n",
       "    </tr>\n",
       "    <tr>\n",
       "      <th>2</th>\n",
       "      <td>6005</td>\n",
       "      <td>California</td>\n",
       "      <td>Amador</td>\n",
       "      <td>36995</td>\n",
       "      <td>20012</td>\n",
       "      <td>16983</td>\n",
       "      <td>12.9</td>\n",
       "      <td>79.7</td>\n",
       "      <td>2.2</td>\n",
       "      <td>1.8</td>\n",
       "      <td>...</td>\n",
       "      <td>0.1</td>\n",
       "      <td>30376</td>\n",
       "      <td>54171.0</td>\n",
       "      <td>4208.0</td>\n",
       "      <td>27473</td>\n",
       "      <td>2016</td>\n",
       "      <td>12.8</td>\n",
       "      <td>22.5</td>\n",
       "      <td>12573</td>\n",
       "      <td>14.0</td>\n",
       "    </tr>\n",
       "    <tr>\n",
       "      <th>3</th>\n",
       "      <td>6007</td>\n",
       "      <td>California</td>\n",
       "      <td>Butte</td>\n",
       "      <td>222564</td>\n",
       "      <td>110115</td>\n",
       "      <td>112449</td>\n",
       "      <td>15.2</td>\n",
       "      <td>73.8</td>\n",
       "      <td>1.4</td>\n",
       "      <td>0.7</td>\n",
       "      <td>...</td>\n",
       "      <td>0.2</td>\n",
       "      <td>169724</td>\n",
       "      <td>43444.0</td>\n",
       "      <td>1068.0</td>\n",
       "      <td>24259</td>\n",
       "      <td>637</td>\n",
       "      <td>21.9</td>\n",
       "      <td>23.9</td>\n",
       "      <td>89411</td>\n",
       "      <td>12.1</td>\n",
       "    </tr>\n",
       "    <tr>\n",
       "      <th>4</th>\n",
       "      <td>6009</td>\n",
       "      <td>California</td>\n",
       "      <td>Calaveras</td>\n",
       "      <td>44767</td>\n",
       "      <td>22143</td>\n",
       "      <td>22624</td>\n",
       "      <td>11.1</td>\n",
       "      <td>82.5</td>\n",
       "      <td>0.6</td>\n",
       "      <td>0.9</td>\n",
       "      <td>...</td>\n",
       "      <td>0.3</td>\n",
       "      <td>35415</td>\n",
       "      <td>53233.0</td>\n",
       "      <td>3774.0</td>\n",
       "      <td>29553</td>\n",
       "      <td>1398</td>\n",
       "      <td>12.6</td>\n",
       "      <td>13.3</td>\n",
       "      <td>16248</td>\n",
       "      <td>12.1</td>\n",
       "    </tr>\n",
       "  </tbody>\n",
       "</table>\n",
       "<p>5 rows × 21 columns</p>\n",
       "</div>"
      ],
      "text/plain": [
       "   CensusId       State     County  TotalPop     Men   Women  Hispanic  White  \\\n",
       "0      6001  California    Alameda   1584983  776699  808284      22.6   33.0   \n",
       "1      6003  California     Alpine      1131     654     477       9.5   64.1   \n",
       "2      6005  California     Amador     36995   20012   16983      12.9   79.7   \n",
       "3      6007  California      Butte    222564  110115  112449      15.2   73.8   \n",
       "4      6009  California  Calaveras     44767   22143   22624      11.1   82.5   \n",
       "\n",
       "   Black  Native  ...  Pacific  Citizen   Income  IncomeErr  IncomePerCap  \\\n",
       "0   11.3     0.3  ...      0.8  1025865  75619.0      613.0         37285   \n",
       "1    1.0    19.4  ...      1.4      865  52917.0    13603.0         21415   \n",
       "2    2.2     1.8  ...      0.1    30376  54171.0     4208.0         27473   \n",
       "3    1.4     0.7  ...      0.2   169724  43444.0     1068.0         24259   \n",
       "4    0.6     0.9  ...      0.3    35415  53233.0     3774.0         29553   \n",
       "\n",
       "   IncomePerCapErr  Poverty  ChildPoverty  Employed  Unemployment  \n",
       "0              279     12.5          15.2    778132           8.3  \n",
       "1             3057     17.5           8.5       408          10.7  \n",
       "2             2016     12.8          22.5     12573          14.0  \n",
       "3              637     21.9          23.9     89411          12.1  \n",
       "4             1398     12.6          13.3     16248          12.1  \n",
       "\n",
       "[5 rows x 21 columns]"
      ]
     },
     "execution_count": 17,
     "metadata": {},
     "output_type": "execute_result"
    }
   ],
   "source": [
    "# Import county demographics data\n",
    "county_df = pd.read_csv(\"Resources/county_clean.csv\")\n",
    "county_df.head()"
   ]
  },
  {
   "cell_type": "code",
   "execution_count": 18,
   "metadata": {
    "id": "a77440d5",
    "outputId": "018952a1-2394-4a67-8225-0b9de6deb529"
   },
   "outputs": [
    {
     "data": {
      "text/plain": [
       "(58, 21)"
      ]
     },
     "execution_count": 18,
     "metadata": {},
     "output_type": "execute_result"
    }
   ],
   "source": [
    "# Examine shape of dataset\n",
    "county_df.shape"
   ]
  },
  {
   "cell_type": "code",
   "execution_count": 19,
   "metadata": {},
   "outputs": [
    {
     "data": {
      "text/html": [
       "<div>\n",
       "<style scoped>\n",
       "    .dataframe tbody tr th:only-of-type {\n",
       "        vertical-align: middle;\n",
       "    }\n",
       "\n",
       "    .dataframe tbody tr th {\n",
       "        vertical-align: top;\n",
       "    }\n",
       "\n",
       "    .dataframe thead th {\n",
       "        text-align: right;\n",
       "    }\n",
       "</style>\n",
       "<table border=\"1\" class=\"dataframe\">\n",
       "  <thead>\n",
       "    <tr style=\"text-align: right;\">\n",
       "      <th></th>\n",
       "      <th>CensusId</th>\n",
       "      <th>State</th>\n",
       "      <th>County</th>\n",
       "      <th>TotalPop</th>\n",
       "      <th>Men</th>\n",
       "      <th>Women</th>\n",
       "      <th>Hispanic</th>\n",
       "      <th>White</th>\n",
       "      <th>Black</th>\n",
       "      <th>Native</th>\n",
       "      <th>...</th>\n",
       "      <th>Citizen</th>\n",
       "      <th>Income</th>\n",
       "      <th>IncomeErr</th>\n",
       "      <th>IncomePerCap</th>\n",
       "      <th>IncomePerCapErr</th>\n",
       "      <th>Poverty</th>\n",
       "      <th>ChildPoverty</th>\n",
       "      <th>Employed</th>\n",
       "      <th>Unemployment</th>\n",
       "      <th>CrimeSolveRate</th>\n",
       "    </tr>\n",
       "  </thead>\n",
       "  <tbody>\n",
       "    <tr>\n",
       "      <th>0</th>\n",
       "      <td>6001</td>\n",
       "      <td>California</td>\n",
       "      <td>Alameda</td>\n",
       "      <td>1584983</td>\n",
       "      <td>776699</td>\n",
       "      <td>808284</td>\n",
       "      <td>22.6</td>\n",
       "      <td>33.0</td>\n",
       "      <td>11.3</td>\n",
       "      <td>0.3</td>\n",
       "      <td>...</td>\n",
       "      <td>1025865</td>\n",
       "      <td>75619.0</td>\n",
       "      <td>613.0</td>\n",
       "      <td>37285</td>\n",
       "      <td>279</td>\n",
       "      <td>12.5</td>\n",
       "      <td>15.2</td>\n",
       "      <td>778132</td>\n",
       "      <td>8.3</td>\n",
       "      <td>0.547829</td>\n",
       "    </tr>\n",
       "    <tr>\n",
       "      <th>1</th>\n",
       "      <td>6003</td>\n",
       "      <td>California</td>\n",
       "      <td>Alpine</td>\n",
       "      <td>1131</td>\n",
       "      <td>654</td>\n",
       "      <td>477</td>\n",
       "      <td>9.5</td>\n",
       "      <td>64.1</td>\n",
       "      <td>1.0</td>\n",
       "      <td>19.4</td>\n",
       "      <td>...</td>\n",
       "      <td>865</td>\n",
       "      <td>52917.0</td>\n",
       "      <td>13603.0</td>\n",
       "      <td>21415</td>\n",
       "      <td>3057</td>\n",
       "      <td>17.5</td>\n",
       "      <td>8.5</td>\n",
       "      <td>408</td>\n",
       "      <td>10.7</td>\n",
       "      <td>0.833333</td>\n",
       "    </tr>\n",
       "    <tr>\n",
       "      <th>2</th>\n",
       "      <td>6005</td>\n",
       "      <td>California</td>\n",
       "      <td>Amador</td>\n",
       "      <td>36995</td>\n",
       "      <td>20012</td>\n",
       "      <td>16983</td>\n",
       "      <td>12.9</td>\n",
       "      <td>79.7</td>\n",
       "      <td>2.2</td>\n",
       "      <td>1.8</td>\n",
       "      <td>...</td>\n",
       "      <td>30376</td>\n",
       "      <td>54171.0</td>\n",
       "      <td>4208.0</td>\n",
       "      <td>27473</td>\n",
       "      <td>2016</td>\n",
       "      <td>12.8</td>\n",
       "      <td>22.5</td>\n",
       "      <td>12573</td>\n",
       "      <td>14.0</td>\n",
       "      <td>0.827586</td>\n",
       "    </tr>\n",
       "    <tr>\n",
       "      <th>3</th>\n",
       "      <td>6007</td>\n",
       "      <td>California</td>\n",
       "      <td>Butte</td>\n",
       "      <td>222564</td>\n",
       "      <td>110115</td>\n",
       "      <td>112449</td>\n",
       "      <td>15.2</td>\n",
       "      <td>73.8</td>\n",
       "      <td>1.4</td>\n",
       "      <td>0.7</td>\n",
       "      <td>...</td>\n",
       "      <td>169724</td>\n",
       "      <td>43444.0</td>\n",
       "      <td>1068.0</td>\n",
       "      <td>24259</td>\n",
       "      <td>637</td>\n",
       "      <td>21.9</td>\n",
       "      <td>23.9</td>\n",
       "      <td>89411</td>\n",
       "      <td>12.1</td>\n",
       "      <td>0.803681</td>\n",
       "    </tr>\n",
       "    <tr>\n",
       "      <th>4</th>\n",
       "      <td>6009</td>\n",
       "      <td>California</td>\n",
       "      <td>Calaveras</td>\n",
       "      <td>44767</td>\n",
       "      <td>22143</td>\n",
       "      <td>22624</td>\n",
       "      <td>11.1</td>\n",
       "      <td>82.5</td>\n",
       "      <td>0.6</td>\n",
       "      <td>0.9</td>\n",
       "      <td>...</td>\n",
       "      <td>35415</td>\n",
       "      <td>53233.0</td>\n",
       "      <td>3774.0</td>\n",
       "      <td>29553</td>\n",
       "      <td>1398</td>\n",
       "      <td>12.6</td>\n",
       "      <td>13.3</td>\n",
       "      <td>16248</td>\n",
       "      <td>12.1</td>\n",
       "      <td>0.878788</td>\n",
       "    </tr>\n",
       "  </tbody>\n",
       "</table>\n",
       "<p>5 rows × 22 columns</p>\n",
       "</div>"
      ],
      "text/plain": [
       "   CensusId       State     County  TotalPop     Men   Women  Hispanic  White  \\\n",
       "0      6001  California    Alameda   1584983  776699  808284      22.6   33.0   \n",
       "1      6003  California     Alpine      1131     654     477       9.5   64.1   \n",
       "2      6005  California     Amador     36995   20012   16983      12.9   79.7   \n",
       "3      6007  California      Butte    222564  110115  112449      15.2   73.8   \n",
       "4      6009  California  Calaveras     44767   22143   22624      11.1   82.5   \n",
       "\n",
       "   Black  Native  ...  Citizen   Income  IncomeErr  IncomePerCap  \\\n",
       "0   11.3     0.3  ...  1025865  75619.0      613.0         37285   \n",
       "1    1.0    19.4  ...      865  52917.0    13603.0         21415   \n",
       "2    2.2     1.8  ...    30376  54171.0     4208.0         27473   \n",
       "3    1.4     0.7  ...   169724  43444.0     1068.0         24259   \n",
       "4    0.6     0.9  ...    35415  53233.0     3774.0         29553   \n",
       "\n",
       "   IncomePerCapErr  Poverty  ChildPoverty  Employed  Unemployment  \\\n",
       "0              279     12.5          15.2    778132           8.3   \n",
       "1             3057     17.5           8.5       408          10.7   \n",
       "2             2016     12.8          22.5     12573          14.0   \n",
       "3              637     21.9          23.9     89411          12.1   \n",
       "4             1398     12.6          13.3     16248          12.1   \n",
       "\n",
       "   CrimeSolveRate  \n",
       "0        0.547829  \n",
       "1        0.833333  \n",
       "2        0.827586  \n",
       "3        0.803681  \n",
       "4        0.878788  \n",
       "\n",
       "[5 rows x 22 columns]"
      ]
     },
     "execution_count": 19,
     "metadata": {},
     "output_type": "execute_result"
    }
   ],
   "source": [
    "# Add CrimeSolveRate Column to County Data\n",
    "county_df = pd.merge(county_df, solved_county_df, on=\"County\", how=\"inner\")\n",
    "county_df.head()"
   ]
  },
  {
   "cell_type": "code",
   "execution_count": 20,
   "metadata": {},
   "outputs": [
    {
     "data": {
      "text/html": [
       "<div>\n",
       "<style scoped>\n",
       "    .dataframe tbody tr th:only-of-type {\n",
       "        vertical-align: middle;\n",
       "    }\n",
       "\n",
       "    .dataframe tbody tr th {\n",
       "        vertical-align: top;\n",
       "    }\n",
       "\n",
       "    .dataframe thead th {\n",
       "        text-align: right;\n",
       "    }\n",
       "</style>\n",
       "<table border=\"1\" class=\"dataframe\">\n",
       "  <thead>\n",
       "    <tr style=\"text-align: right;\">\n",
       "      <th></th>\n",
       "      <th>CensusId</th>\n",
       "      <th>State</th>\n",
       "      <th>County</th>\n",
       "      <th>TotalPop</th>\n",
       "      <th>Men</th>\n",
       "      <th>Women</th>\n",
       "      <th>Hispanic</th>\n",
       "      <th>White</th>\n",
       "      <th>Black</th>\n",
       "      <th>Native</th>\n",
       "      <th>...</th>\n",
       "      <th>IncomeErr</th>\n",
       "      <th>IncomePerCap</th>\n",
       "      <th>IncomePerCapErr</th>\n",
       "      <th>Poverty</th>\n",
       "      <th>ChildPoverty</th>\n",
       "      <th>Employed</th>\n",
       "      <th>Unemployment</th>\n",
       "      <th>CrimeSolveRate</th>\n",
       "      <th>CitizenPct</th>\n",
       "      <th>EmployedPct</th>\n",
       "    </tr>\n",
       "  </thead>\n",
       "  <tbody>\n",
       "    <tr>\n",
       "      <th>0</th>\n",
       "      <td>6001</td>\n",
       "      <td>California</td>\n",
       "      <td>Alameda</td>\n",
       "      <td>1584983</td>\n",
       "      <td>776699</td>\n",
       "      <td>808284</td>\n",
       "      <td>22.6</td>\n",
       "      <td>33.0</td>\n",
       "      <td>11.3</td>\n",
       "      <td>0.3</td>\n",
       "      <td>...</td>\n",
       "      <td>613.0</td>\n",
       "      <td>37285</td>\n",
       "      <td>279</td>\n",
       "      <td>12.5</td>\n",
       "      <td>15.2</td>\n",
       "      <td>778132</td>\n",
       "      <td>8.3</td>\n",
       "      <td>0.547829</td>\n",
       "      <td>0.647240</td>\n",
       "      <td>0.490940</td>\n",
       "    </tr>\n",
       "    <tr>\n",
       "      <th>1</th>\n",
       "      <td>6003</td>\n",
       "      <td>California</td>\n",
       "      <td>Alpine</td>\n",
       "      <td>1131</td>\n",
       "      <td>654</td>\n",
       "      <td>477</td>\n",
       "      <td>9.5</td>\n",
       "      <td>64.1</td>\n",
       "      <td>1.0</td>\n",
       "      <td>19.4</td>\n",
       "      <td>...</td>\n",
       "      <td>13603.0</td>\n",
       "      <td>21415</td>\n",
       "      <td>3057</td>\n",
       "      <td>17.5</td>\n",
       "      <td>8.5</td>\n",
       "      <td>408</td>\n",
       "      <td>10.7</td>\n",
       "      <td>0.833333</td>\n",
       "      <td>0.764810</td>\n",
       "      <td>0.360743</td>\n",
       "    </tr>\n",
       "    <tr>\n",
       "      <th>2</th>\n",
       "      <td>6005</td>\n",
       "      <td>California</td>\n",
       "      <td>Amador</td>\n",
       "      <td>36995</td>\n",
       "      <td>20012</td>\n",
       "      <td>16983</td>\n",
       "      <td>12.9</td>\n",
       "      <td>79.7</td>\n",
       "      <td>2.2</td>\n",
       "      <td>1.8</td>\n",
       "      <td>...</td>\n",
       "      <td>4208.0</td>\n",
       "      <td>27473</td>\n",
       "      <td>2016</td>\n",
       "      <td>12.8</td>\n",
       "      <td>22.5</td>\n",
       "      <td>12573</td>\n",
       "      <td>14.0</td>\n",
       "      <td>0.827586</td>\n",
       "      <td>0.821084</td>\n",
       "      <td>0.339857</td>\n",
       "    </tr>\n",
       "    <tr>\n",
       "      <th>3</th>\n",
       "      <td>6007</td>\n",
       "      <td>California</td>\n",
       "      <td>Butte</td>\n",
       "      <td>222564</td>\n",
       "      <td>110115</td>\n",
       "      <td>112449</td>\n",
       "      <td>15.2</td>\n",
       "      <td>73.8</td>\n",
       "      <td>1.4</td>\n",
       "      <td>0.7</td>\n",
       "      <td>...</td>\n",
       "      <td>1068.0</td>\n",
       "      <td>24259</td>\n",
       "      <td>637</td>\n",
       "      <td>21.9</td>\n",
       "      <td>23.9</td>\n",
       "      <td>89411</td>\n",
       "      <td>12.1</td>\n",
       "      <td>0.803681</td>\n",
       "      <td>0.762585</td>\n",
       "      <td>0.401732</td>\n",
       "    </tr>\n",
       "    <tr>\n",
       "      <th>4</th>\n",
       "      <td>6009</td>\n",
       "      <td>California</td>\n",
       "      <td>Calaveras</td>\n",
       "      <td>44767</td>\n",
       "      <td>22143</td>\n",
       "      <td>22624</td>\n",
       "      <td>11.1</td>\n",
       "      <td>82.5</td>\n",
       "      <td>0.6</td>\n",
       "      <td>0.9</td>\n",
       "      <td>...</td>\n",
       "      <td>3774.0</td>\n",
       "      <td>29553</td>\n",
       "      <td>1398</td>\n",
       "      <td>12.6</td>\n",
       "      <td>13.3</td>\n",
       "      <td>16248</td>\n",
       "      <td>12.1</td>\n",
       "      <td>0.878788</td>\n",
       "      <td>0.791096</td>\n",
       "      <td>0.362946</td>\n",
       "    </tr>\n",
       "  </tbody>\n",
       "</table>\n",
       "<p>5 rows × 24 columns</p>\n",
       "</div>"
      ],
      "text/plain": [
       "   CensusId       State     County  TotalPop     Men   Women  Hispanic  White  \\\n",
       "0      6001  California    Alameda   1584983  776699  808284      22.6   33.0   \n",
       "1      6003  California     Alpine      1131     654     477       9.5   64.1   \n",
       "2      6005  California     Amador     36995   20012   16983      12.9   79.7   \n",
       "3      6007  California      Butte    222564  110115  112449      15.2   73.8   \n",
       "4      6009  California  Calaveras     44767   22143   22624      11.1   82.5   \n",
       "\n",
       "   Black  Native  ...  IncomeErr  IncomePerCap  IncomePerCapErr  Poverty  \\\n",
       "0   11.3     0.3  ...      613.0         37285              279     12.5   \n",
       "1    1.0    19.4  ...    13603.0         21415             3057     17.5   \n",
       "2    2.2     1.8  ...     4208.0         27473             2016     12.8   \n",
       "3    1.4     0.7  ...     1068.0         24259              637     21.9   \n",
       "4    0.6     0.9  ...     3774.0         29553             1398     12.6   \n",
       "\n",
       "   ChildPoverty  Employed  Unemployment  CrimeSolveRate  CitizenPct  \\\n",
       "0          15.2    778132           8.3        0.547829    0.647240   \n",
       "1           8.5       408          10.7        0.833333    0.764810   \n",
       "2          22.5     12573          14.0        0.827586    0.821084   \n",
       "3          23.9     89411          12.1        0.803681    0.762585   \n",
       "4          13.3     16248          12.1        0.878788    0.791096   \n",
       "\n",
       "   EmployedPct  \n",
       "0     0.490940  \n",
       "1     0.360743  \n",
       "2     0.339857  \n",
       "3     0.401732  \n",
       "4     0.362946  \n",
       "\n",
       "[5 rows x 24 columns]"
      ]
     },
     "execution_count": 20,
     "metadata": {},
     "output_type": "execute_result"
    }
   ],
   "source": [
    "# Add CitizenPct and EmployedPct column to County Data\n",
    "county_df[\"CitizenPct\"] = county_df[\"Citizen\"]/county_df[\"TotalPop\"]\n",
    "county_df[\"EmployedPct\"] = county_df[\"Employed\"]/county_df[\"TotalPop\"]\n",
    "county_df.head()"
   ]
  },
  {
   "cell_type": "code",
   "execution_count": 21,
   "metadata": {},
   "outputs": [
    {
     "data": {
      "text/plain": [
       "<AxesSubplot:xlabel='TotalPop', ylabel='CrimeSolveRate'>"
      ]
     },
     "execution_count": 21,
     "metadata": {},
     "output_type": "execute_result"
    },
    {
     "data": {
      "image/png": "[encoded data removed]",
      "text/plain": [
       "<Figure size 432x288 with 1 Axes>"
      ]
     },
     "metadata": {
      "needs_background": "light"
     },
     "output_type": "display_data"
    }
   ],
   "source": [
    "# Compare solve rates and total population\n",
    "county_df.plot(x=\"TotalPop\", y=\"CrimeSolveRate\", kind=\"scatter\", logx=True)"
   ]
  },
  {
   "cell_type": "code",
   "execution_count": 22,
   "metadata": {},
   "outputs": [
    {
     "data": {
      "text/plain": [
       "<AxesSubplot:xlabel='Hispanic', ylabel='CrimeSolveRate'>"
      ]
     },
     "execution_count": 22,
     "metadata": {},
     "output_type": "execute_result"
    },
    {
     "data": {
      "image/png": "[encoded data removed]",
      "text/plain": [
       "<Figure size 432x288 with 1 Axes>"
      ]
     },
     "metadata": {
      "needs_background": "light"
     },
     "output_type": "display_data"
    }
   ],
   "source": [
    "# Compare solve rates and percent Hispanic\n",
    "county_df.plot(x=\"Hispanic\", y=\"CrimeSolveRate\", kind=\"scatter\")"
   ]
  },
  {
   "cell_type": "code",
   "execution_count": 23,
   "metadata": {},
   "outputs": [
    {
     "data": {
      "text/plain": [
       "<AxesSubplot:xlabel='White', ylabel='CrimeSolveRate'>"
      ]
     },
     "execution_count": 23,
     "metadata": {},
     "output_type": "execute_result"
    },
    {
     "data": {
      "image/png": "[encoded data removed]",
      "text/plain": [
       "<Figure size 432x288 with 1 Axes>"
      ]
     },
     "metadata": {
      "needs_background": "light"
     },
     "output_type": "display_data"
    }
   ],
   "source": [
    "# Compare solve rates and percent White\n",
    "county_df.plot(x=\"White\", y=\"CrimeSolveRate\", kind=\"scatter\")"
   ]
  },
  {
   "cell_type": "code",
   "execution_count": 24,
   "metadata": {},
   "outputs": [
    {
     "data": {
      "text/plain": [
       "<AxesSubplot:xlabel='Black', ylabel='CrimeSolveRate'>"
      ]
     },
     "execution_count": 24,
     "metadata": {},
     "output_type": "execute_result"
    },
    {
     "data": {
      "image/png": "[encoded data removed]",
      "text/plain": [
       "<Figure size 432x288 with 1 Axes>"
      ]
     },
     "metadata": {
      "needs_background": "light"
     },
     "output_type": "display_data"
    }
   ],
   "source": [
    "# Compare solve rates and percent Black\n",
    "county_df.plot(x=\"Black\", y=\"CrimeSolveRate\", kind=\"scatter\")"
   ]
  },
  {
   "cell_type": "code",
   "execution_count": 25,
   "metadata": {},
   "outputs": [
    {
     "data": {
      "text/plain": [
       "<AxesSubplot:xlabel='Native', ylabel='CrimeSolveRate'>"
      ]
     },
     "execution_count": 25,
     "metadata": {},
     "output_type": "execute_result"
    },
    {
     "data": {
      "image/png": "[encoded data removed]",
      "text/plain": [
       "<Figure size 432x288 with 1 Axes>"
      ]
     },
     "metadata": {
      "needs_background": "light"
     },
     "output_type": "display_data"
    }
   ],
   "source": [
    "# Compare solve rates and percent Native\n",
    "county_df.plot(x=\"Native\", y=\"CrimeSolveRate\", kind=\"scatter\")"
   ]
  },
  {
   "cell_type": "code",
   "execution_count": 26,
   "metadata": {},
   "outputs": [
    {
     "data": {
      "text/plain": [
       "<AxesSubplot:xlabel='Asian', ylabel='CrimeSolveRate'>"
      ]
     },
     "execution_count": 26,
     "metadata": {},
     "output_type": "execute_result"
    },
    {
     "data": {
      "image/png": "[encoded data removed]",
      "text/plain": [
       "<Figure size 432x288 with 1 Axes>"
      ]
     },
     "metadata": {
      "needs_background": "light"
     },
     "output_type": "display_data"
    }
   ],
   "source": [
    "# Compare solve rates and percent Asian\n",
    "county_df.plot(x=\"Asian\", y=\"CrimeSolveRate\", kind=\"scatter\")"
   ]
  },
  {
   "cell_type": "code",
   "execution_count": 27,
   "metadata": {},
   "outputs": [
    {
     "data": {
      "text/plain": [
       "<AxesSubplot:xlabel='CitizenPct', ylabel='CrimeSolveRate'>"
      ]
     },
     "execution_count": 27,
     "metadata": {},
     "output_type": "execute_result"
    },
    {
     "data": {
      "image/png": "[encoded data removed]",
      "text/plain": [
       "<Figure size 432x288 with 1 Axes>"
      ]
     },
     "metadata": {
      "needs_background": "light"
     },
     "output_type": "display_data"
    }
   ],
   "source": [
    "# Compare solve rates and percent citizens\n",
    "county_df.plot(x=\"CitizenPct\", y=\"CrimeSolveRate\", kind=\"scatter\")"
   ]
  },
  {
   "cell_type": "code",
   "execution_count": 28,
   "metadata": {},
   "outputs": [
    {
     "data": {
      "text/plain": [
       "<AxesSubplot:xlabel='Income', ylabel='CrimeSolveRate'>"
      ]
     },
     "execution_count": 28,
     "metadata": {},
     "output_type": "execute_result"
    },
    {
     "data": {
      "image/png": "[encoded data removed]",
      "text/plain": [
       "<Figure size 432x288 with 1 Axes>"
      ]
     },
     "metadata": {
      "needs_background": "light"
     },
     "output_type": "display_data"
    }
   ],
   "source": [
    "# Compare solve rates and average income\n",
    "county_df.plot(x=\"Income\", y=\"CrimeSolveRate\", kind=\"scatter\")"
   ]
  },
  {
   "cell_type": "code",
   "execution_count": 29,
   "metadata": {},
   "outputs": [
    {
     "data": {
      "text/plain": [
       "<AxesSubplot:xlabel='IncomePerCap', ylabel='CrimeSolveRate'>"
      ]
     },
     "execution_count": 29,
     "metadata": {},
     "output_type": "execute_result"
    },
    {
     "data": {
      "image/png": "[encoded data removed]",
      "text/plain": [
       "<Figure size 432x288 with 1 Axes>"
      ]
     },
     "metadata": {
      "needs_background": "light"
     },
     "output_type": "display_data"
    }
   ],
   "source": [
    "# Compare solve rates and income per capita\n",
    "county_df.plot(x=\"IncomePerCap\", y=\"CrimeSolveRate\", kind=\"scatter\")"
   ]
  },
  {
   "cell_type": "code",
   "execution_count": 30,
   "metadata": {},
   "outputs": [
    {
     "data": {
      "text/plain": [
       "<AxesSubplot:xlabel='Poverty', ylabel='CrimeSolveRate'>"
      ]
     },
     "execution_count": 30,
     "metadata": {},
     "output_type": "execute_result"
    },
    {
     "data": {
      "image/png": "[encoded data removed]",
      "text/plain": [
       "<Figure size 432x288 with 1 Axes>"
      ]
     },
     "metadata": {
      "needs_background": "light"
     },
     "output_type": "display_data"
    }
   ],
   "source": [
    "# Compare solve rates and poverty\n",
    "county_df.plot(x=\"Poverty\", y=\"CrimeSolveRate\", kind=\"scatter\")"
   ]
  },
  {
   "cell_type": "code",
   "execution_count": 31,
   "metadata": {},
   "outputs": [
    {
     "data": {
      "text/plain": [
       "<AxesSubplot:xlabel='EmployedPct', ylabel='CrimeSolveRate'>"
      ]
     },
     "execution_count": 31,
     "metadata": {},
     "output_type": "execute_result"
    },
    {
     "data": {
      "image/png": "[encoded data removed]",
      "text/plain": [
       "<Figure size 432x288 with 1 Axes>"
      ]
     },
     "metadata": {
      "needs_background": "light"
     },
     "output_type": "display_data"
    }
   ],
   "source": [
    "# Compare solve rates and percent employed\n",
    "county_df.plot(x=\"EmployedPct\", y=\"CrimeSolveRate\", kind=\"scatter\")"
   ]
  },
  {
   "cell_type": "code",
   "execution_count": 32,
   "metadata": {},
   "outputs": [
    {
     "data": {
      "text/plain": [
       "<AxesSubplot:xlabel='Unemployment', ylabel='CrimeSolveRate'>"
      ]
     },
     "execution_count": 32,
     "metadata": {},
     "output_type": "execute_result"
    },
    {
     "data": {
      "image/png": "[encoded data removed]",
      "text/plain": [
       "<Figure size 432x288 with 1 Axes>"
      ]
     },
     "metadata": {
      "needs_background": "light"
     },
     "output_type": "display_data"
    }
   ],
   "source": [
    "# Compare solve rates and unemployment\n",
    "county_df.plot(x=\"Unemployment\", y=\"CrimeSolveRate\", kind=\"scatter\")"
   ]
  },
  {
   "cell_type": "code",
   "execution_count": null,
   "metadata": {},
   "outputs": [],
   "source": []
  }
 ],
 "metadata": {
  "colab": {
   "name": "Murder.ipynb",
   "provenance": []
  },
  "kernelspec": {
   "display_name": "PythonData",
   "language": "python",
   "name": "pythondata"
  },
  "language_info": {
   "codemirror_mode": {
    "name": "ipython",
    "version": 3
   },
   "file_extension": ".py",
   "mimetype": "text/x-python",
   "name": "python",
   "nbconvert_exporter": "python",
   "pygments_lexer": "ipython3",
   "version": "3.7.9"
  }
 },
 "nbformat": 4,
 "nbformat_minor": 5
}
